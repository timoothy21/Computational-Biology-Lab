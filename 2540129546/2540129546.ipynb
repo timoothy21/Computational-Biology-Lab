{
 "cells": [
  {
   "cell_type": "markdown",
   "metadata": {},
   "source": [
    "# Quiz SCIE6062001-Computational Biology LAB\n",
    "##### Timothy Theophilus Hartono - 2540129546"
   ]
  },
  {
   "cell_type": "code",
   "execution_count": 1,
   "metadata": {},
   "outputs": [],
   "source": [
    "import Bio\n",
    "from Bio import SeqIO\n",
    "from Bio.Seq import Seq\n",
    "from Bio.SeqUtils import nt_search as nt\n",
    "from Bio.SeqUtils import MeltingTemp as mt\n",
    "from Bio.SeqUtils import molecular_weight as mw\n",
    "from collections import Counter\n",
    "from matplotlib import pyplot as plt\n",
    "from Bio.SeqUtils import seq3\n",
    "from Bio import pairwise2\n",
    "from Bio.pairwise2 import format_alignment\n",
    "from Levenshtein import distance"
   ]
  },
  {
   "cell_type": "code",
   "execution_count": 2,
   "metadata": {},
   "outputs": [],
   "source": [
    "content_seqA = SeqIO.read('./AY893111.fasta', 'fasta')\n",
    "content_seqB = SeqIO.read('./EE001249.fasta', 'fasta')\n",
    "\n",
    "seqA = content_seqA.seq\n",
    "seqB = content_seqB.seq"
   ]
  },
  {
   "cell_type": "markdown",
   "metadata": {},
   "source": [
    "1 Sequence Manipulation:"
   ]
  },
  {
   "cell_type": "code",
   "execution_count": 3,
   "metadata": {},
   "outputs": [
    {
     "name": "stdout",
     "output_type": "stream",
     "text": [
      "Sequence A: ATGGGGAAGATGGCAGCGGCCGTGGGCTCTGTGGCGACTCTGGCGACTGAGCCCGGGGAGGACGCCTTTCGGAAACTTTTCCGCTTCTACCGTCAGAGCCGGCCCGGGACCGCAGACCTGGAAGGGGTCATCGACTTCTCGGCGGCCCACGCAGCCCGTGGCAAGGGTCCTGGTGCCCAAAAGGTGATCAAATCTCAGCTAAATGTGTCTTCTGTCAGTGAGCAGAATGCATATAGAGCAGGTCTTCAGCCCGTCAGCAAGTGGCAAGCCTATGGACTCAAAGGCTATCCTGGGTTTATTTTTATCCCAAACCCCTTCCTCCCAGGTTACCAGTGGCACTGGGTGAAACAGTGCCTTAAGTTATATTCCCAGAAACCTAATGTATGTAACCTGGACAAACACATGTCTAAAGAAGAGACCCAAGATCTGTGGGAACAGAGCAAAGAGTTCCTGAGGTATAAAGAAGCGACTAAACGGAGACCCCGAAGTTTACTGGAGAAACTGCGTTGGGTGACCGTAGGCTACCATTATAACTGGGACAGTAAGAAATACTCAGCAGATCATTACACACCTTTCCCTTCTGACCTGGGTTTCCTCTCAGAGCAAGTAGCCGCTGCCTGTGGATTTGAGGATTTCCGAGCTGAAGCAGGGATCCTGAATTACTACCGCCTGGACTCCACACTGGGAATCCACGTAGACAGATCTGAGCTAGATCACTCCAAACCCTTGCTGTCATTCAGCTTTGGACAGTCCGCCATCTTTCTCCTGGGTGGTCTTCAAAGGGATGAGGCCCCCACGGCCATGTTTATGCACAGTGGTGACATCATGATAATGTCGGGTTTCAGCCGCCTCTTGAACCACGCAGTCCCTCGTGTCCTTCCAAATCCAGAAGGGGAAGGCCTGCCTCACTGCCTAGAGGCACCTCTCCCTGCTGTCCTCCCGAGAGATTCAATGGTAGAGCCTTGTTCTATGGAGGACTGGCAGGTGTGTGCCAGCTACTTGAAGACCGCTCGTGTTAACATGACTGTCCGACAGGTCCTGGCCACAGACCAGAATTTCCCTCTAGAACCCATCGAGGATGAAAAAAGAGACATCAGTACAGAAGGTTTCTGCCATCTGGATGACCAGAATAGCGAAGTAAAACGGGCCAGGATAAACCCTCACAGCTTG\n",
      "Sequence B: CTAGAGCGGCCGCCCTTTTTTTTTTTTTTTTTTTATATAATAATTTTATTTTTTATTATTTTTCAACCAAATCACAAAATGTGTTTTTTTTTCAAAGTGGGTAAACAGAATTAAGCAATTTATTTCTTACCGGCCTTGGCAGCGGCCTTGGTGACCTTACCGGCCTTGTCGACCTTTTCAACGGACTTGATGACACCGACAGCAACGGTTTGACGCATGTCACGAACAGCGAAACGACCAAGAGGAGGGTAGTCAGTGTAAGCTTCAACACACATGGGCTTGGAGGGGATCATCTTGACAATGGCAGAGTCACCAGACTTGACGAACTTGGGAGTAGCTTCCAAGGACTTACCGGAACGTCTGTCGATCTTTTCAATCAATTCAGCGAACTTACAGGCAATGTGAGCAGTGTGACAATCCAAAACGGGAGCGTAACCAGCACCAATTTGACCGGGGTGGTTCAAGATAATGACTTGAGCGGTGAAGGAACCGGCTTCCTTGGCGGGGTCGTTCTTGGAGT\n",
      "Total length of Sequence A: 1170\n",
      "Total length of Sequence B: 520\n"
     ]
    }
   ],
   "source": [
    "# A. Find and display the total length of Sequence A and B\n",
    "print('Sequence A:', seqA)\n",
    "print('Sequence B:', seqB)\n",
    "print('Total length of Sequence A:', len(seqA))\n",
    "print('Total length of Sequence B:', len(seqB))"
   ]
  },
  {
   "cell_type": "code",
   "execution_count": 4,
   "metadata": {},
   "outputs": [
    {
     "name": "stdout",
     "output_type": "stream",
     "text": [
      "First time the codon (GTG) appears [index]:  29\n",
      "First time the codon (GTG) appears [index]:  79\n"
     ]
    }
   ],
   "source": [
    "# B Find and display the first time the codon (TGT) appears in Sequence A and B\n",
    "print('First time the codon (GTG) appears [index]: ', seqA.find('TGT'))\n",
    "print('First time the codon (GTG) appears [index]: ',seqB.find('TGT'))"
   ]
  },
  {
   "cell_type": "code",
   "execution_count": 5,
   "metadata": {},
   "outputs": [
    {
     "name": "stdout",
     "output_type": "stream",
     "text": [
      "Sequence C: TTTTTTTTTTTTTTTCCCGCCGGCGAGATCGTTCGACACTCCCAA\n"
     ]
    }
   ],
   "source": [
    "# C Take the last 15 nucleotides from Sequence A and the first 30 nucleotide from Sequence B then combine the sequences and reverse it to a new seqeuence, Sequence C\n",
    "seqC = seqA[-15:] + seqB[:30]\n",
    "seqC = seqC[::-1]\n",
    "print('Sequence C:', seqC)"
   ]
  },
  {
   "cell_type": "markdown",
   "metadata": {},
   "source": [
    "2. Sequence Analysis & Plotting"
   ]
  },
  {
   "cell_type": "code",
   "execution_count": 6,
   "metadata": {},
   "outputs": [
    {
     "name": "stdout",
     "output_type": "stream",
     "text": [
      "Melting temperature seqA: 3568.0\n",
      "Melting temperature seqB: 1508.0\n",
      "Melting temperature seqC: 130.0\n"
     ]
    }
   ],
   "source": [
    "# A Determine and display the melting temperature for Sequence A, B, and C (using built-in Wallace Method)\n",
    "mtA = mt.Tm_Wallace(seqA)\n",
    "mtB = mt.Tm_Wallace(seqB)\n",
    "mtC = mt.Tm_Wallace(seqC)\n",
    "\n",
    "print('Melting temperature seqA:', mtA)\n",
    "print('Melting temperature seqB:', mtB)\n",
    "print('Melting temperature seqC:', mtC)"
   ]
  },
  {
   "cell_type": "code",
   "execution_count": 7,
   "metadata": {},
   "outputs": [
    {
     "name": "stdout",
     "output_type": "stream",
     "text": [
      "GC Content percentage Seq A: 52.478632478632484\n",
      "GC Content percentage Seq B: 45.0\n",
      "GC Content percentage Seq C: 44.44444444444444\n",
      "AT Content percentage Seq A: 47.521367521367516\n",
      "AT Content percentage Seq B: 55.00000000000001\n",
      "AT Content percentage Seq C: 55.55555555555556\n"
     ]
    }
   ],
   "source": [
    "# B Determine and display the GC & AT content percentage for Sequence A, B, and C\n",
    "def gc_content(seq):\n",
    "    result = float(seq.count('G') + seq.count('C')) / len(seq)\n",
    "    return result * 100\n",
    "\n",
    "def at_content(seq):\n",
    "    result = float(seq.count('A') + seq.count('T')) / len(seq)\n",
    "    return result * 100\n",
    "\n",
    "GC_A = gc_content(seqA)\n",
    "GC_B = gc_content(seqB)\n",
    "GC_C = gc_content(seqC)\n",
    "\n",
    "AT_A = at_content(seqA)\n",
    "AT_B = at_content(seqB)\n",
    "AT_C = at_content(seqC)\n",
    "\n",
    "print('GC Content percentage Seq A:', GC_A)\n",
    "print('GC Content percentage Seq B:', GC_B)\n",
    "print('GC Content percentage Seq C:', GC_C)\n",
    "\n",
    "print('AT Content percentage Seq A:', AT_A)\n",
    "print('AT Content percentage Seq B:', AT_B)\n",
    "print('AT Content percentage Seq C:', AT_C)"
   ]
  },
  {
   "cell_type": "code",
   "execution_count": 8,
   "metadata": {},
   "outputs": [
    {
     "name": "stdout",
     "output_type": "stream",
     "text": [
      "Molecular Weight SeqA: 361484.27220000175\n",
      "Molecular Weight SeqB: 160914.6329999998\n",
      "Molecular Weight SeqC: 13740.729799999997\n"
     ]
    }
   ],
   "source": [
    "# C Determine and display the molecular weight for Sequence A, B, C\n",
    "mwA = mw(seqA)\n",
    "mwB = mw(seqB)\n",
    "mwC = mw(seqC)\n",
    "\n",
    "print('Molecular Weight SeqA:', mwA)\n",
    "print('Molecular Weight SeqB:', mwB)\n",
    "print('Molecular Weight SeqC:', mwC)"
   ]
  },
  {
   "cell_type": "code",
   "execution_count": 9,
   "metadata": {},
   "outputs": [
    {
     "data": {
      "image/png": "[encoded data removed]",
      "text/plain": [
       "<Figure size 640x480 with 3 Axes>"
      ]
     },
     "metadata": {},
     "output_type": "display_data"
    }
   ],
   "source": [
    "# D Determine and display the nucleotide base (A, C, G, T) frequency for Sequence A, B, and C with a chart using matplotlib library\n",
    "nbA = Counter(seqA)\n",
    "nbB = Counter(seqB)\n",
    "nbC = Counter(seqC)\n",
    "\n",
    "plt.subplot(1, 3, 1)\n",
    "plt.bar(nbA.keys(), nbA.values())\n",
    "plt.title('Seq A')\n",
    "plt.subplot(1, 3, 2)\n",
    "plt.bar(nbB.keys(), nbB.values())\n",
    "plt.title('Seq B')\n",
    "plt.subplot(1, 3, 3)\n",
    "plt.bar(nbC.keys(), nbC.values())\n",
    "plt.title('Seq C')\n",
    "plt.show()"
   ]
  },
  {
   "cell_type": "markdown",
   "metadata": {},
   "source": [
    "3. DNA & mRNA Protein Synthesis"
   ]
  },
  {
   "cell_type": "code",
   "execution_count": 10,
   "metadata": {},
   "outputs": [
    {
     "name": "stdout",
     "output_type": "stream",
     "text": [
      "mRNA seqA: AUGGGGAAGAUGGCAGCGGCCGUGGGCUCUGUGGCGACUCUGGCGACUGAGCCCGGGGAGGACGCCUUUCGGAAACUUUUCCGCUUCUACCGUCAGAGCCGGCCCGGGACCGCAGACCUGGAAGGGGUCAUCGACUUCUCGGCGGCCCACGCAGCCCGUGGCAAGGGUCCUGGUGCCCAAAAGGUGAUCAAAUCUCAGCUAAAUGUGUCUUCUGUCAGUGAGCAGAAUGCAUAUAGAGCAGGUCUUCAGCCCGUCAGCAAGUGGCAAGCCUAUGGACUCAAAGGCUAUCCUGGGUUUAUUUUUAUCCCAAACCCCUUCCUCCCAGGUUACCAGUGGCACUGGGUGAAACAGUGCCUUAAGUUAUAUUCCCAGAAACCUAAUGUAUGUAACCUGGACAAACACAUGUCUAAAGAAGAGACCCAAGAUCUGUGGGAACAGAGCAAAGAGUUCCUGAGGUAUAAAGAAGCGACUAAACGGAGACCCCGAAGUUUACUGGAGAAACUGCGUUGGGUGACCGUAGGCUACCAUUAUAACUGGGACAGUAAGAAAUACUCAGCAGAUCAUUACACACCUUUCCCUUCUGACCUGGGUUUCCUCUCAGAGCAAGUAGCCGCUGCCUGUGGAUUUGAGGAUUUCCGAGCUGAAGCAGGGAUCCUGAAUUACUACCGCCUGGACUCCACACUGGGAAUCCACGUAGACAGAUCUGAGCUAGAUCACUCCAAACCCUUGCUGUCAUUCAGCUUUGGACAGUCCGCCAUCUUUCUCCUGGGUGGUCUUCAAAGGGAUGAGGCCCCCACGGCCAUGUUUAUGCACAGUGGUGACAUCAUGAUAAUGUCGGGUUUCAGCCGCCUCUUGAACCACGCAGUCCCUCGUGUCCUUCCAAAUCCAGAAGGGGAAGGCCUGCCUCACUGCCUAGAGGCACCUCUCCCUGCUGUCCUCCCGAGAGAUUCAAUGGUAGAGCCUUGUUCUAUGGAGGACUGGCAGGUGUGUGCCAGCUACUUGAAGACCGCUCGUGUUAACAUGACUGUCCGACAGGUCCUGGCCACAGACCAGAAUUUCCCUCUAGAACCCAUCGAGGAUGAAAAAAGAGACAUCAGUACAGAAGGUUUCUGCCAUCUGGAUGACCAGAAUAGCGAAGUAAAACGGGCCAGGAUAAACCCUCACAGCUUG\n",
      "mRNA seqB: CUAGAGCGGCCGCCCUUUUUUUUUUUUUUUUUUUAUAUAAUAAUUUUAUUUUUUAUUAUUUUUCAACCAAAUCACAAAAUGUGUUUUUUUUUCAAAGUGGGUAAACAGAAUUAAGCAAUUUAUUUCUUACCGGCCUUGGCAGCGGCCUUGGUGACCUUACCGGCCUUGUCGACCUUUUCAACGGACUUGAUGACACCGACAGCAACGGUUUGACGCAUGUCACGAACAGCGAAACGACCAAGAGGAGGGUAGUCAGUGUAAGCUUCAACACACAUGGGCUUGGAGGGGAUCAUCUUGACAAUGGCAGAGUCACCAGACUUGACGAACUUGGGAGUAGCUUCCAAGGACUUACCGGAACGUCUGUCGAUCUUUUCAAUCAAUUCAGCGAACUUACAGGCAAUGUGAGCAGUGUGACAAUCCAAAACGGGAGCGUAACCAGCACCAAUUUGACCGGGGUGGUUCAAGAUAAUGACUUGAGCGGUGAAGGAACCGGCUUCCUUGGCGGGGUCGUUCUUGGAGU\n",
      "mRNA seqC: UUUUUUUUUUUUUUUCCCGCCGGCGAGAUCGUUCGACACUCCCAA\n"
     ]
    }
   ],
   "source": [
    "# A Transcribe and display the DNA Sequence A, B and C into mRNA Sequence\n",
    "mRNAa = seqA.transcribe()\n",
    "mRNAb = seqB.transcribe()\n",
    "mRNAc = seqC.transcribe()\n",
    "\n",
    "print('mRNA seqA:', mRNAa)\n",
    "print('mRNA seqB:', mRNAb)\n",
    "print('mRNA seqC:', mRNAc)"
   ]
  },
  {
   "cell_type": "code",
   "execution_count": 11,
   "metadata": {},
   "outputs": [
    {
     "name": "stdout",
     "output_type": "stream",
     "text": [
      "Amino acids SeqA: MGKMAAAVGSVATLATEPGEDAFRKLFRFYRQSRPGTADLEGVIDFSAAHAARGKGPGAQKVIKSQLNVSSVSEQNAYRAGLQPVSKWQAYGLKGYPGFIFIPNPFLPGYQWHWVKQCLKLYSQKPNVCNLDKHMSKEETQDLWEQSKEFLRYKEATKRRPRSLLEKLRWVTVGYHYNWDSKKYSADHYTPFPSDLGFLSEQVAAACGFEDFRAEAGILNYYRLDSTLGIHVDRSELDHSKPLLSFSFGQSAIFLLGGLQRDEAPTAMFMHSGDIMIMSGFSRLLNHAVPRVLPNPEGEGLPHCLEAPLPAVLPRDSMVEPCSMEDWQVCASYLKTARVNMTVRQVLATDQNFPLEPIEDEKRDISTEGFCHLDDQNSEVKRARINPHSL\n",
      "Amino acids SeqB: LERPPFFFFFFYIIILFFIIFQPNHKMCFFFKVGKQN*AIYFLPALAAALVTLPALSTFSTDLMTPTATV*RMSRTAKRPRGG*SV*ASTHMGLEGIILTMAESPDLTNLGVASKDLPERLSIFSINSANLQAM*AV*QSKTGA*PAPI*PGWFKIMT*AVKEPASLAGSFLE\n",
      "Amino acids SeqC: FFFFFPAGEIVRHSQ\n",
      "Amino acids SeqA using seq3: MetGlyLysMetAlaAlaAlaValGlySerValAlaThrLeuAlaThrGluProGlyGluAspAlaPheArgLysLeuPheArgPheTyrArgGlnSerArgProGlyThrAlaAspLeuGluGlyValIleAspPheSerAlaAlaHisAlaAlaArgGlyLysGlyProGlyAlaGlnLysValIleLysSerGlnLeuAsnValSerSerValSerGluGlnAsnAlaTyrArgAlaGlyLeuGlnProValSerLysTrpGlnAlaTyrGlyLeuLysGlyTyrProGlyPheIlePheIleProAsnProPheLeuProGlyTyrGlnTrpHisTrpValLysGlnCysLeuLysLeuTyrSerGlnLysProAsnValCysAsnLeuAspLysHisMetSerLysGluGluThrGlnAspLeuTrpGluGlnSerLysGluPheLeuArgTyrLysGluAlaThrLysArgArgProArgSerLeuLeuGluLysLeuArgTrpValThrValGlyTyrHisTyrAsnTrpAspSerLysLysTyrSerAlaAspHisTyrThrProPheProSerAspLeuGlyPheLeuSerGluGlnValAlaAlaAlaCysGlyPheGluAspPheArgAlaGluAlaGlyIleLeuAsnTyrTyrArgLeuAspSerThrLeuGlyIleHisValAspArgSerGluLeuAspHisSerLysProLeuLeuSerPheSerPheGlyGlnSerAlaIlePheLeuLeuGlyGlyLeuGlnArgAspGluAlaProThrAlaMetPheMetHisSerGlyAspIleMetIleMetSerGlyPheSerArgLeuLeuAsnHisAlaValProArgValLeuProAsnProGluGlyGluGlyLeuProHisCysLeuGluAlaProLeuProAlaValLeuProArgAspSerMetValGluProCysSerMetGluAspTrpGlnValCysAlaSerTyrLeuLysThrAlaArgValAsnMetThrValArgGlnValLeuAlaThrAspGlnAsnPheProLeuGluProIleGluAspGluLysArgAspIleSerThrGluGlyPheCysHisLeuAspAspGlnAsnSerGluValLysArgAlaArgIleAsnProHisSerLeu\n",
      "Amino acids SeqB using seq3: LeuGluArgProProPhePhePhePhePhePheTyrIleIleIleLeuPhePheIleIlePheGlnProAsnHisLysMetCysPhePhePheLysValGlyLysGlnAsnTerAlaIleTyrPheLeuProAlaLeuAlaAlaAlaLeuValThrLeuProAlaLeuSerThrPheSerThrAspLeuMetThrProThrAlaThrValTerArgMetSerArgThrAlaLysArgProArgGlyGlyTerSerValTerAlaSerThrHisMetGlyLeuGluGlyIleIleLeuThrMetAlaGluSerProAspLeuThrAsnLeuGlyValAlaSerLysAspLeuProGluArgLeuSerIlePheSerIleAsnSerAlaAsnLeuGlnAlaMetTerAlaValTerGlnSerLysThrGlyAlaTerProAlaProIleTerProGlyTrpPheLysIleMetThrTerAlaValLysGluProAlaSerLeuAlaGlySerPheLeuGlu\n",
      "Amino acids SeqC using seq3: PhePhePhePhePheProAlaGlyGluIleValArgHisSerGln\n"
     ]
    },
    {
     "name": "stderr",
     "output_type": "stream",
     "text": [
      "c:\\Anaconda3\\envs\\comp_bio\\lib\\site-packages\\Bio\\Seq.py:2338: BiopythonWarning: Partial codon, len(sequence) not a multiple of three. Explicitly trim the sequence or add trailing N before translation. This may become an error in future.\n",
      "  BiopythonWarning,\n"
     ]
    }
   ],
   "source": [
    "# B Translate and display the mRNA Sequence A, B, and C into amino acids Sequence\n",
    "aminoAcidA = mRNAa.translate()\n",
    "aminoAcidB = mRNAb.translate()\n",
    "aminoAcidC = mRNAc.translate()\n",
    "\n",
    "print('Amino acids SeqA:', aminoAcidA)\n",
    "print('Amino acids SeqB:', aminoAcidB)\n",
    "print('Amino acids SeqC:', aminoAcidC)\n",
    "\n",
    "print('Amino acids SeqA using seq3:', seq3(aminoAcidA))\n",
    "print('Amino acids SeqB using seq3:', seq3(aminoAcidB))\n",
    "print('Amino acids SeqC using seq3:', seq3(aminoAcidC))"
   ]
  },
  {
   "cell_type": "markdown",
   "metadata": {},
   "source": [
    "4. Sequence Alignment & Similarities"
   ]
  },
  {
   "cell_type": "code",
   "execution_count": 12,
   "metadata": {},
   "outputs": [
    {
     "name": "stdout",
     "output_type": "stream",
     "text": [
      "1106 GTTTCTGCCATCTGGATGACCAGAATAGCGAAGTAAAACGGGCCAGGATAAACCCTCACAGCTT\n",
      "     |  || |   ||  |||   | | ||  || | |         |  |            |   |\n",
      "   1 G--TC-G---TC--GAT---C-G-AT--CG-A-T---------C--G------------A---T\n",
      "  Score=21\n",
      "\n"
     ]
    }
   ],
   "source": [
    "# A Perform local alignment pairwise between Sequence A and Sequence “GTCGTCGATCGATCGATCGAT” and display the alignments score\n",
    "findA = Seq('GTCGTCGATCGATCGATCGAT')\n",
    "localA = pairwise2.align.localxx(seqA, findA, one_alignment_only=True)\n",
    "print(format_alignment(*localA[0]))"
   ]
  },
  {
   "cell_type": "code",
   "execution_count": 13,
   "metadata": {},
   "outputs": [
    {
     "name": "stdout",
     "output_type": "stream",
     "text": [
      "449 GACCGGGGTGGTTCAAGATAATGACTTGAGCGGTGAAGGAACCGGCTTCCTTGGCGGGGTCGTTCTTGGAGT\n",
      "    |  |        |   |   ||  |  ||    |         ||      |      |  |  |      |\n",
      "  1 G--C--------T---G---AT--C--GA----T---------GG------T------G--G--C------T\n",
      "  Score=17\n",
      "\n"
     ]
    }
   ],
   "source": [
    "# B Perform local alignment pairwise between Sequence B and Sequence “GCTGATCGATGGTGGCT” and display the alignments score# B\n",
    "findB = Seq('GCTGATCGATGGTGGCT')\n",
    "localB = pairwise2.align.localxx(seqB, findB, one_alignment_only=True)\n",
    "print(format_alignment(*localB[0]))"
   ]
  },
  {
   "cell_type": "code",
   "execution_count": 14,
   "metadata": {},
   "outputs": [
    {
     "name": "stdout",
     "output_type": "stream",
     "text": [
      "Levenshtein distance (seqA and seqB): 726\n"
     ]
    }
   ],
   "source": [
    "# C Find and Display the levenshtein distance between Sequence A and B\n",
    "levenshteinDistance = distance(seqA, seqB)\n",
    "print('Levenshtein distance (seqA and seqB):', levenshteinDistance)"
   ]
  }
 ],
 "metadata": {
  "kernelspec": {
   "display_name": "Python 3.7.6 ('comp_bio')",
   "language": "python",
   "name": "python3"
  },
  "language_info": {
   "codemirror_mode": {
    "name": "ipython",
    "version": 3
   },
   "file_extension": ".py",
   "mimetype": "text/x-python",
   "name": "python",
   "nbconvert_exporter": "python",
   "pygments_lexer": "ipython3",
   "version": "3.7.6"
  },
  "orig_nbformat": 4,
  "vscode": {
   "interpreter": {
    "hash": "e9f22baacef7ea00cb208ee402984e4c483b89bb6c8ef8b451e56e747e181f0d"
   }
  }
 },
 "nbformat": 4,
 "nbformat_minor": 2
}
