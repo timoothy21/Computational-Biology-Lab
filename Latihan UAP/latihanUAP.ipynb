{
 "cells": [
  {
   "cell_type": "code",
   "execution_count": 51,
   "metadata": {},
   "outputs": [],
   "source": [
    "import Bio\n",
    "from Bio import SeqIO\n",
    "from Bio.Seq import Seq\n",
    "from Bio.SeqUtils import nt_search as nt\n",
    "from Bio.SeqUtils import MeltingTemp as mt\n",
    "from Bio.SeqUtils import molecular_weight as mw\n",
    "from collections import Counter\n",
    "from matplotlib import pyplot as plt\n",
    "from Bio import pairwise2\n",
    "from Bio.pairwise2 import format_alignment\n",
    "from Levenshtein import distance"
   ]
  },
  {
   "cell_type": "code",
   "execution_count": 52,
   "metadata": {},
   "outputs": [],
   "source": [
    "# Read fasta\n",
    "content_seqA = SeqIO.read('./D16S318.fasta', 'fasta')\n",
    "content_seqB = SeqIO.read('./MG821630.fasta', 'fasta')\n",
    "\n",
    "seqA = content_seqA.seq\n",
    "seqB = content_seqB.seq"
   ]
  },
  {
   "cell_type": "code",
   "execution_count": 53,
   "metadata": {},
   "outputs": [
    {
     "name": "stdout",
     "output_type": "stream",
     "text": [
      "CTGTGGTGTCACATCAGGAAGTACATAATGATTTGGTGAGGTGTGTGTGTGTGTGTGTGTGTGTGTGTGTGTGTGTGTGTGTGTATGTGGTGTTTATGTATAAGATTGGTCAATGGGTTCAGTCCAATCGGTTCATGTGTAGTC\n",
      "ACTTGCTTTGGCGGTGGGCCCAGCCTGCCGCCAGAGGTCTAAACTTACAACCAATTTTTTATCAACTTGTCACACCAGATTATTACTAATAGTCCAAACTTTCAACAACGGATCTCTTGGTTCTCGCATCGATGAAGAACGCAGCGAAATGCGATACGTAATATGAATTGCAGATATTCGTGAATCATCGAATCTTTGAACGCACATTGCGCCCTCTGGTATTCCGGAGGGCATGCCTGTTTGAGCGTCGTTTCTCCCTCAAACCGCTGGGTTTGGTGTTGAGCAATACGACTTGGGTTTGCTTGAAAGACGGGAGTGGTAAGGCGGGATCGCTTTGGCAATGGCTTAGGGCCAACCGAAAACATTGCTTGCCGCGGTAACGTCTACCACGTATATCTTCAAACTTTGACCTCGAATCATGTAGGACTACCCGCTGGACTTTACCGCATG\n",
      "144\n",
      "450\n"
     ]
    }
   ],
   "source": [
    "# 1\n",
    "# a. Find and display total length of seqA and seqB\n",
    "print(seqA)\n",
    "print(seqB)\n",
    "print(len(seqA))\n",
    "print(len(seqB))"
   ]
  },
  {
   "cell_type": "code",
   "execution_count": 54,
   "metadata": {},
   "outputs": [
    {
     "name": "stdout",
     "output_type": "stream",
     "text": [
      "2\n",
      "13\n",
      "['GTG', 2, 5, 35, 40, 42, 44, 46, 48, 50, 52, 54, 56, 58, 60, 62, 64, 66, 68, 70, 72, 74, 76, 78, 80, 86, 89, 136]\n",
      "['GTG', 13, 179, 275, 315]\n"
     ]
    }
   ],
   "source": [
    "# B. Find and display which index time the codon (GTG) appears in SeqA and SeqB\n",
    "print(seqA.find('GTG'))\n",
    "print(seqB.find('GTG'))\n",
    "\n",
    "\n",
    "find = Seq('GTG')\n",
    "print(nt(str(seqA), find))\n",
    "print(nt(str(seqB), find))"
   ]
  },
  {
   "cell_type": "code",
   "execution_count": 55,
   "metadata": {},
   "outputs": [
    {
     "data": {
      "text/plain": [
       "Seq('GTACGCTGTGGTGTC')"
      ]
     },
     "execution_count": 55,
     "metadata": {},
     "output_type": "execute_result"
    }
   ],
   "source": [
    "seqC = seqA[:10] + seqB[-5:]\n",
    "seqC = seqC[::-1]\n",
    "seqC"
   ]
  },
  {
   "cell_type": "code",
   "execution_count": 56,
   "metadata": {},
   "outputs": [
    {
     "name": "stdout",
     "output_type": "stream",
     "text": [
      "414.0\n",
      "1332.0\n",
      "48.0\n",
      "75.7899981286252\n",
      "81.2511079164305\n",
      "45.36696437579121\n"
     ]
    }
   ],
   "source": [
    "# 2\n",
    "# a\n",
    "print(mt.Tm_Wallace(seqA))\n",
    "print(mt.Tm_Wallace(seqB))\n",
    "print(mt.Tm_Wallace(seqC))\n",
    "\n",
    "print(mt.Tm_NN(seqA))\n",
    "print(mt.Tm_NN(seqB))\n",
    "print(mt.Tm_NN(seqC))"
   ]
  },
  {
   "cell_type": "code",
   "execution_count": 57,
   "metadata": {},
   "outputs": [
    {
     "name": "stdout",
     "output_type": "stream",
     "text": [
      "43.75\n",
      "48.0\n",
      "60.0\n",
      "56.25\n",
      "52.0\n",
      "40.0\n"
     ]
    }
   ],
   "source": [
    "# b\n",
    "def gc_content(seq):\n",
    "    result = float(seq.count('G') + seq.count('C'))/len(seq)\n",
    "    return result * 100\n",
    "\n",
    "def at_content(seq):\n",
    "    result = float(seq.count('A') + seq.count('T'))/len(seq)\n",
    "    return result * 100\n",
    "\n",
    "print(gc_content(seqA))\n",
    "print(gc_content(seqB))\n",
    "print(gc_content(seqC))\n",
    "\n",
    "print(at_content(seqA))\n",
    "print(at_content(seqB))\n",
    "print(at_content(seqC))"
   ]
  },
  {
   "cell_type": "code",
   "execution_count": 58,
   "metadata": {},
   "outputs": [
    {
     "name": "stdout",
     "output_type": "stream",
     "text": [
      "45133.6662\n",
      "138936.53459999975\n",
      "4694.9686\n"
     ]
    }
   ],
   "source": [
    "# c molecular weight\n",
    "print(mw(seqA))\n",
    "print(mw(seqB))\n",
    "print(mw(seqC))"
   ]
  },
  {
   "cell_type": "code",
   "execution_count": 59,
   "metadata": {},
   "outputs": [
    {
     "data": {
      "image/png": "[encoded data removed]",
      "text/plain": [
       "<Figure size 640x480 with 3 Axes>"
      ]
     },
     "metadata": {},
     "output_type": "display_data"
    }
   ],
   "source": [
    "# d determine and display the nucleotides base\n",
    "base_seqA = Counter(seqA)\n",
    "base_seqB = Counter(seqB)\n",
    "base_seqC = Counter(seqC)\n",
    "\n",
    "plt.subplot(1, 3, 1)\n",
    "plt.title('Seq A')\n",
    "plt.bar(base_seqA.keys(), base_seqA.values())\n",
    "plt.subplot(1, 3, 2)\n",
    "plt.title('Seq B')\n",
    "plt.bar(base_seqB.keys(), base_seqB.values())\n",
    "plt.subplot(1, 3, 3)\n",
    "plt.title('Seq C')\n",
    "plt.bar(base_seqC.keys(), base_seqC.values())\n",
    "plt.show()"
   ]
  },
  {
   "cell_type": "code",
   "execution_count": 60,
   "metadata": {},
   "outputs": [
    {
     "name": "stdout",
     "output_type": "stream",
     "text": [
      "CUGUGGUGUCACAUCAGGAAGUACAUAAUGAUUUGGUGAGGUGUGUGUGUGUGUGUGUGUGUGUGUGUGUGUGUGUGUGUGUGUAUGUGGUGUUUAUGUAUAAGAUUGGUCAAUGGGUUCAGUCCAAUCGGUUCAUGUGUAGUC\n",
      "ACUUGCUUUGGCGGUGGGCCCAGCCUGCCGCCAGAGGUCUAAACUUACAACCAAUUUUUUAUCAACUUGUCACACCAGAUUAUUACUAAUAGUCCAAACUUUCAACAACGGAUCUCUUGGUUCUCGCAUCGAUGAAGAACGCAGCGAAAUGCGAUACGUAAUAUGAAUUGCAGAUAUUCGUGAAUCAUCGAAUCUUUGAACGCACAUUGCGCCCUCUGGUAUUCCGGAGGGCAUGCCUGUUUGAGCGUCGUUUCUCCCUCAAACCGCUGGGUUUGGUGUUGAGCAAUACGACUUGGGUUUGCUUGAAAGACGGGAGUGGUAAGGCGGGAUCGCUUUGGCAAUGGCUUAGGGCCAACCGAAAACAUUGCUUGCCGCGGUAACGUCUACCACGUAUAUCUUCAAACUUUGACCUCGAAUCAUGUAGGACUACCCGCUGGACUUUACCGCAUG\n",
      "GUACGCUGUGGUGUC\n"
     ]
    }
   ],
   "source": [
    "# 3\n",
    "mRNA_seqA = seqA.transcribe()\n",
    "mRNA_seqB = seqB.transcribe()\n",
    "mRNA_seqC = seqC.transcribe()\n",
    "\n",
    "print(mRNA_seqA)\n",
    "print(mRNA_seqB)\n",
    "print(mRNA_seqC)"
   ]
  },
  {
   "cell_type": "code",
   "execution_count": 61,
   "metadata": {},
   "outputs": [
    {
     "name": "stdout",
     "output_type": "stream",
     "text": [
      "LWCHIRKYIMIW*GVCVCVCVCVCVCVCMWCLCIRLVNGFSPIGSCVV\n",
      "TCFGGGPSLPPEV*TYNQFFINLSHQIITNSPNFQQRISWFSHR*RTQRNAIRNMNCRYS*IIESLNAHCALWYSGGHACLSVVSPSNRWVWC*AIRLGFA*KTGVVRRDRFGNGLGPTENIACRGNVYHVYLQTLTSNHVGLPAGLYRM\n",
      "VRCGV\n"
     ]
    }
   ],
   "source": [
    "# b\n",
    "aminoAcidSeqA = mRNA_seqA.translate()\n",
    "aminoAcidSeqB = mRNA_seqB.translate()\n",
    "aminoAcidSeqC = mRNA_seqC.translate()\n",
    "\n",
    "print(aminoAcidSeqA)\n",
    "print(aminoAcidSeqB)\n",
    "print(aminoAcidSeqC)"
   ]
  },
  {
   "cell_type": "code",
   "execution_count": 62,
   "metadata": {},
   "outputs": [
    {
     "name": "stdout",
     "output_type": "stream",
     "text": [
      "16.0\n"
     ]
    }
   ],
   "source": [
    "seqCompare = Seq('CGCIACTAGC.AIGCGC.AT')\n",
    "local = pairwise2.align.localxx(seqA, seqCompare, one_alignment_only=True, score_only=True)\n",
    "\n",
    "print(local)"
   ]
  },
  {
   "cell_type": "code",
   "execution_count": 63,
   "metadata": {},
   "outputs": [
    {
     "name": "stdout",
     "output_type": "stream",
     "text": [
      "385 TACCACGTATATCTTCAAACTTTGACCTCGAATCATGTAGGACTACCC-GCTGGACTTT-ACCGC\n",
      "    |   | |        |  |    |  ||   | |      |        | | |      |   |\n",
      "  1 T---A-G--------C--A----G--CT---A-C------G-------IG-T-G-----.A---C\n",
      "  Score=16\n",
      "\n",
      "[Alignment(seqA='ACTTGCTTTGGCGGTGGGCCCAGCCTGCCGCCAGAGGTCTAAACTTACAACCAATTTTTTATCAACTTGTCACACCAGATTATTACTAATAGTCCAAACTTTCAACAACGGATCTCTTGGTTCTCGCATCGATGAAGAACGCAGCGAAATGCGATACGTAATATGAATTGCAGATATTCGTGAATCATCGAATCTTTGAACGCACATTGCGCCCTCTGGTATTCCGGAGGGCATGCCTGTTTGAGCGTCGTTTCTCCCTCAAACCGCTGGGTTTGGTGTTGAGCAATACGACTTGGGTTTGCTTGAAAGACGGGAGTGGTAAGGCGGGATCGCTTTGGCAATGGCTTAGGGCCAACCGAAAACATTGCTTGCCGCGGTAACGTCTACCACGTATATCTTCAAACTTTGACCTCGAATCATGTAGGACTACCC-GCTGGACTTT-ACCGCATG', seqB='------------------------------------------------------------------------------------------------------------------------------------------------------------------------------------------------------------------------------------------------------------------------------------------------------------------------------------------------------------------------------------------------T---A-G--------C--A----G--CT---A-C------G-------IG-T-G-----.A---C---', score=16.0, start=384, end=449)]\n"
     ]
    }
   ],
   "source": [
    "seqCompare = Seq('TAGCAGCTACGIGTG.AC')\n",
    "local = pairwise2.align.localxx(seqB, seqCompare, one_alignment_only=True)\n",
    "\n",
    "print(format_alignment(*local[0]))\n",
    "print(local)"
   ]
  },
  {
   "cell_type": "code",
   "execution_count": 64,
   "metadata": {},
   "outputs": [
    {
     "name": "stdout",
     "output_type": "stream",
     "text": [
      "314\n"
     ]
    }
   ],
   "source": [
    "\n",
    "print(distance(seqA, seqB))"
   ]
  },
  {
   "cell_type": "code",
   "execution_count": null,
   "metadata": {},
   "outputs": [],
   "source": []
  }
 ],
 "metadata": {
  "kernelspec": {
   "display_name": "base",
   "language": "python",
   "name": "python3"
  },
  "language_info": {
   "codemirror_mode": {
    "name": "ipython",
    "version": 3
   },
   "file_extension": ".py",
   "mimetype": "text/x-python",
   "name": "python",
   "nbconvert_exporter": "python",
   "pygments_lexer": "ipython3",
   "version": "3.10.9"
  },
  "orig_nbformat": 4
 },
 "nbformat": 4,
 "nbformat_minor": 2
}
