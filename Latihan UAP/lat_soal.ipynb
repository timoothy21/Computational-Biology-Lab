{
 "cells": [
  {
   "attachments": {},
   "cell_type": "markdown",
   "metadata": {},
   "source": [
    "- Read D16S289.fasta as Sequence A\n",
    "- Read MG821630.fasta as Sequence B\n",
    "\n",
    "\n",
    "*1. Sequence Manipulation:*\n",
    "- a. Find and display the total length of Sequence A and B\n",
    "- b. Find and display which index the first time the codon (GTG) appears in Sequence A and B\n",
    "- c. Take the first 10 nucleotides from Sequence A and the last 5 nucleotides from Sequence B then combine the sequences and reverse it to a new sequence, Sequence C.\n",
    "\n",
    "*2. Sequence Analysis and Plotting*\n",
    "- a. Determine and display the melting temperature for Sequence A, B, and C (using built-in Wallace Method and NN Method)\n",
    "- b. Determine and display the GC & AT Content Percentage for Sequence A, B, and C\n",
    "- c. Determine and display the molecular weight for Sequence A, B, and C\n",
    "- d. Determine and display the nucleotides base (A, C, T, G) frequency for Sequence A, B, and C with a chart using matplotlib library.\n",
    "\n",
    "*3. DNA & mRNA Protein Synthesis:*\n",
    "- a. Transcribe and display the DNA Sequence A, B, and C into mRNA Sequences.\n",
    "- b. Translate and display the mRNA Sequence A, B, and C into amino acids sequences.\n",
    "\n",
    "*4. Sequence Alignment and Similarities*\n",
    "- a. Perform local alignment pairvise between Sequence A and Sequence\n",
    "\"CGCIACTAGC.AIGCGC.AT\" and display the alignments' score.\n",
    "- b. Perform local alignment pairvise between Sequence B and Sequence\n",
    "\"TAGCAGCTACGIGTG.AC\" and display the alignments' score\n",
    "- c. Find and display the Levenshtein distance between Sequence A and B.\n"
   ]
  },
  {
   "attachments": {},
   "cell_type": "markdown",
   "metadata": {},
   "source": [
    "1.\tSequence Manipulation:\n",
    "- a.\tFind and display the total length of Sequence A and B.\n",
    "- b.\tFind and display which index the first time the codon (CGC) appears in Sequence A and B.\n",
    "- c.\tTake the first 6 nucleotides from Sequence A and the last 9 nucleotides from Sequence B then combine the sequences and reverse it to a new sequence, Sequence C.\n",
    "\n",
    "2.\tSequence Analysis & Plotting:\n",
    "- a.\tDetermine and display the melting temperature for Sequence A, B, and C (using built-in Wallace Method).\n",
    "- b.\tDetermine and display the GC & AT content percentage for Sequence A, B, and C.\n",
    "- c.\tDetermine and display the molecular weight for Sequence A, B, and C.\n",
    "- d.\tDetermine and display the nucleotides base (A, C, G, T) frequency for Sequence A, B, and C with a chart using matplotlib library.\n",
    "\n",
    "3.\tDNA & mRNA Protein Synthesis:\n",
    "- a.\tTranscribe and display the DNA Sequence A, B, and C into mRNA Sequences.\n",
    "- b.\tTranslate and display the mRNA Sequence A, B, and C into amino acids sequences.\n",
    "\n",
    "4.\tSequence Alignment & Similarities:\n",
    "- a.\tPerform local alignment pairwise between Sequence A and Sequence “TGTACATTATAATGCTCTATTTTCTCGC” and display the alignments’ score.\n",
    "- b.\tPerform local alignment pairwise between Sequence B and Sequence “CAGAGTAATGTGTACAGATATTGGGCTC” and display the alignments’ score.\n",
    "- c.\tFind and display the Levenshtein distance between Sequence A and B."
   ]
  }
 ],
 "metadata": {
  "language_info": {
   "name": "python"
  },
  "orig_nbformat": 4
 },
 "nbformat": 4,
 "nbformat_minor": 2
}
