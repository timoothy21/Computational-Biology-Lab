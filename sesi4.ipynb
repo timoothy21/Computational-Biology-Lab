{
 "cells": [
  {
   "cell_type": "code",
   "execution_count": 1,
   "metadata": {},
   "outputs": [],
   "source": [
    "# Import Sequence\n",
    "import Bio\n",
    "from Bio.Seq import Seq"
   ]
  },
  {
   "cell_type": "code",
   "execution_count": 2,
   "metadata": {},
   "outputs": [
    {
     "name": "stdout",
     "output_type": "stream",
     "text": [
      "CGATAGTACT CGTATG\n"
     ]
    }
   ],
   "source": [
    "seq1 = Seq('CGATAGTACT')\n",
    "seq2 = Seq('CGTATG')\n",
    "print(seq1, seq2)"
   ]
  },
  {
   "cell_type": "code",
   "execution_count": 3,
   "metadata": {},
   "outputs": [
    {
     "name": "stderr",
     "output_type": "stream",
     "text": [
      "c:\\Users\\timit\\anaconda3\\lib\\site-packages\\Bio\\pairwise2.py:278: BiopythonDeprecationWarning: Bio.pairwise2 has been deprecated, and we intend to remove it in a future release of Biopython. As an alternative, please consider using Bio.Align.PairwiseAligner as a replacement, and contact the Biopython developers if you still need the Bio.pairwise2 module.\n",
      "  warnings.warn(\n"
     ]
    }
   ],
   "source": [
    "# Alignemnt\n",
    "from Bio import pairwise2\n",
    "from Bio.pairwise2 import format_alignment\n"
   ]
  },
  {
   "cell_type": "code",
   "execution_count": 4,
   "metadata": {},
   "outputs": [
    {
     "name": "stdout",
     "output_type": "stream",
     "text": [
      "CGATAGTACT-\n",
      "|    ||| | \n",
      "C----GTA-TG\n",
      "  Score=5\n",
      "\n",
      "CGATAGTACT-\n",
      "||    || | \n",
      "CG----TA-TG\n",
      "  Score=5\n",
      "\n",
      "CGATAGTACT-\n",
      "|| |   | | \n",
      "CG-T---A-TG\n",
      "  Score=5\n",
      "\n",
      "CGATAGTACT-\n",
      "|| ||    | \n",
      "CG-TA----TG\n",
      "  Score=5\n",
      "\n",
      "CGATAGTACT-\n",
      "|| || |    \n",
      "CG-TA-T---G\n",
      "  Score=5\n",
      "\n",
      "CGATAGTACT\n",
      "|| || |  .\n",
      "CG-TA-T--G\n",
      "  Score=5\n",
      "\n",
      "CGATAGTACT\n",
      "|| || | . \n",
      "CG-TA-T-G-\n",
      "  Score=5\n",
      "\n",
      "CGATAGTACT\n",
      "|| || |.  \n",
      "CG-TA-TG--\n",
      "  Score=5\n",
      "\n",
      "CGATA-GTACT\n",
      "|| || |    \n",
      "CG-TATG----\n",
      "  Score=5\n",
      "\n",
      "CG-ATAGTACT\n",
      "|| || |    \n",
      "CGTAT-G----\n",
      "  Score=5\n",
      "\n"
     ]
    }
   ],
   "source": [
    "global_alignment = pairwise2.align.globalxx(seq1, seq2)\n",
    "for align in global_alignment:\n",
    "    print(format_alignment(*align))"
   ]
  },
  {
   "cell_type": "code",
   "execution_count": 5,
   "metadata": {},
   "outputs": [
    {
     "name": "stdout",
     "output_type": "stream",
     "text": [
      "1 CGATAGTACT\n",
      "  |    ||| |\n",
      "1 C----GTA-T\n",
      "  Score=5\n",
      "\n",
      "1 CGATAGTACT\n",
      "  ||    || |\n",
      "1 CG----TA-T\n",
      "  Score=5\n",
      "\n",
      "1 CGATAGTACT\n",
      "  || |   | |\n",
      "1 CG-T---A-T\n",
      "  Score=5\n",
      "\n",
      "1 CGATAGTACT\n",
      "  || ||    |\n",
      "1 CG-TA----T\n",
      "  Score=5\n",
      "\n",
      "1 CGATAGT\n",
      "  || || |\n",
      "1 CG-TA-T\n",
      "  Score=5\n",
      "\n",
      "1 CGATA-G\n",
      "  || || |\n",
      "1 CG-TATG\n",
      "  Score=5\n",
      "\n",
      "1 CG-ATAG\n",
      "  || || |\n",
      "1 CGTAT-G\n",
      "  Score=5\n",
      "\n"
     ]
    }
   ],
   "source": [
    "local_alignemnt = pairwise2.align.localxx(seq1, seq2)\n",
    "\n",
    "for x in local_alignemnt:\n",
    "    print(format_alignment(*x))"
   ]
  },
  {
   "cell_type": "code",
   "execution_count": 6,
   "metadata": {},
   "outputs": [
    {
     "name": "stdout",
     "output_type": "stream",
     "text": [
      "CGATAGTACT-\n",
      "|    ||| | \n",
      "C----GTA-TG\n",
      "  Score=8.2\n",
      "\n",
      "CGATAGTACT-\n",
      "||    || | \n",
      "CG----TA-TG\n",
      "  Score=8.2\n",
      "\n",
      "CGATAGTACT-\n",
      "|| ||    | \n",
      "CG-TA----TG\n",
      "  Score=8.2\n",
      "\n",
      "CGATA-GTACT\n",
      "|| || |    \n",
      "CG-TATG----\n",
      "  Score=8.2\n",
      "\n",
      "CG-ATAGTACT\n",
      "|| || |    \n",
      "CGTAT-G----\n",
      "  Score=8.2\n",
      "\n",
      "1 CGATAGT\n",
      "  || || |\n",
      "1 CG-TA-T\n",
      "  Score=9\n",
      "\n",
      "1 CGATA-G\n",
      "  || || |\n",
      "1 CG-TATG\n",
      "  Score=9\n",
      "\n",
      "1 CG-ATAG\n",
      "  || || |\n",
      "1 CGTAT-G\n",
      "  Score=9\n",
      "\n"
     ]
    }
   ],
   "source": [
    "# Match 2.0\n",
    "# Mismatch: -1.0\n",
    "# Gap: -0.5\n",
    "# Extend: -0.1\n",
    "# Global aligment\n",
    "\n",
    "example_alignment = pairwise2.align.globalms(seq1, seq2, 2.0, -1.0, -0.5, -0.1)\n",
    "for x in example_alignment:\n",
    "    print(format_alignment(*x))\n",
    "\n",
    "    example_alignment = pairwise2.align.localms(seq1, seq2, 2.0, -1.0, -0.5, -0.1)\n",
    "for x in example_alignment:\n",
    "    print(format_alignment(*x))"
   ]
  },
  {
   "cell_type": "code",
   "execution_count": 7,
   "metadata": {},
   "outputs": [
    {
     "name": "stdout",
     "output_type": "stream",
     "text": [
      "[Alignment(seqA='CGATAGTACT-', seqB='C----GTA-TG', score=5.0, start=0, end=11)]\n",
      "5.0\n",
      "50.0\n"
     ]
    }
   ],
   "source": [
    "# Only one score/align\n",
    "global_score = pairwise2.align.globalxx(seq1, seq2, one_alignment_only=True)\n",
    "\n",
    "print(global_score)\n",
    "\n",
    "global_score = pairwise2.align.globalxx(seq1, seq2, one_alignment_only=True, score_only=True)\n",
    "\n",
    "print(global_score)\n",
    "\n",
    "# Similarity\n",
    "similarity = global_score/len(seq1) * 100\n",
    "print(similarity)"
   ]
  },
  {
   "cell_type": "code",
   "execution_count": 12,
   "metadata": {},
   "outputs": [
    {
     "data": {
      "text/plain": [
       "0"
      ]
     },
     "execution_count": 12,
     "metadata": {},
     "output_type": "execute_result"
    }
   ],
   "source": [
    "# Hamming Distance = value dari yang berbeda antar 2 sequence (mismatch)\n",
    "# Levenstain = ngukur berapa mismatch tapi bisa subsitute delete atau insert\n",
    "\n",
    "def hamming_distance(seq1, seq2):\n",
    "    if(len(seq1) != len(seq2)):\n",
    "        return 0\n",
    "    else:\n",
    "        data = [(seq1, seq2) for seq1, seq2 in zip(seq1, seq2) if(seq1 != seq2)]\n",
    "        return len(data)\n",
    "\n",
    "hamming_distance(seq1, seq2)"
   ]
  },
  {
   "cell_type": "code",
   "execution_count": 9,
   "metadata": {},
   "outputs": [
    {
     "name": "stdout",
     "output_type": "stream",
     "text": [
      "Requirement already satisfied: python-Levenshtein in c:\\users\\timit\\anaconda3\\lib\\site-packages (0.21.1)\n",
      "Requirement already satisfied: Levenshtein==0.21.1 in c:\\users\\timit\\anaconda3\\lib\\site-packages (from python-Levenshtein) (0.21.1)\n",
      "Requirement already satisfied: rapidfuzz<4.0.0,>=2.3.0 in c:\\users\\timit\\anaconda3\\lib\\site-packages (from Levenshtein==0.21.1->python-Levenshtein) (3.1.1)\n",
      "Note: you may need to restart the kernel to use updated packages.\n"
     ]
    }
   ],
   "source": [
    "%pip install python-Levenshtein"
   ]
  },
  {
   "cell_type": "code",
   "execution_count": 10,
   "metadata": {},
   "outputs": [],
   "source": [
    "# Levenshtein Distance (PC Binus)\n",
    "from Levenshtein import distance\n"
   ]
  },
  {
   "cell_type": "code",
   "execution_count": 11,
   "metadata": {},
   "outputs": [
    {
     "name": "stdout",
     "output_type": "stream",
     "text": [
      "Levenshtein Distance Value 5\n"
     ]
    }
   ],
   "source": [
    "print('Levenshtein Distance Value', distance(seq1, seq2))"
   ]
  },
  {
   "cell_type": "code",
   "execution_count": null,
   "metadata": {},
   "outputs": [],
   "source": []
  }
 ],
 "metadata": {
  "kernelspec": {
   "display_name": "base",
   "language": "python",
   "name": "python3"
  },
  "language_info": {
   "codemirror_mode": {
    "name": "ipython",
    "version": 3
   },
   "file_extension": ".py",
   "mimetype": "text/x-python",
   "name": "python",
   "nbconvert_exporter": "python",
   "pygments_lexer": "ipython3",
   "version": "3.10.9"
  },
  "orig_nbformat": 4
 },
 "nbformat": 4,
 "nbformat_minor": 2
}
